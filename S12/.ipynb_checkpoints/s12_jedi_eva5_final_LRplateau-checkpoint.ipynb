{
 "cells": [
  {
   "cell_type": "code",
   "execution_count": 1,
   "metadata": {
    "colab": {
     "base_uri": "https://localhost:8080/",
     "height": 33
    },
    "id": "ZirJqODzyVth",
    "outputId": "5867d77f-8f31-4c00-8342-85ca62d446e2"
   },
   "outputs": [
    {
     "name": "stdout",
     "output_type": "stream",
     "text": [
      "Mounted at /content/drive\n"
     ]
    }
   ],
   "source": [
    "from google.colab import drive\n",
    "drive.mount('/content/drive')"
   ]
  },
  {
   "cell_type": "code",
   "execution_count": 2,
   "metadata": {
    "colab": {
     "base_uri": "https://localhost:8080/",
     "height": 134
    },
    "id": "pjJFaHQKy_Np",
    "outputId": "e01ace5f-3877-4756-cc95-0f8aecd19ae6"
   },
   "outputs": [
    {
     "name": "stdout",
     "output_type": "stream",
     "text": [
      "Cloning into 'JEDI'...\n",
      "remote: Enumerating objects: 56, done.\u001b[K\n",
      "remote: Counting objects: 100% (56/56), done.\u001b[K\n",
      "remote: Compressing objects: 100% (51/51), done.\u001b[K\n",
      "remote: Total 782 (delta 9), reused 18 (delta 5), pack-reused 726\u001b[K\n",
      "Receiving objects: 100% (782/782), 261.54 MiB | 25.10 MiB/s, done.\n",
      "Resolving deltas: 100% (346/346), done.\n"
     ]
    }
   ],
   "source": [
    "!git clone https://github.com/theschoolof-ai/JEDI.git"
   ]
  },
  {
   "cell_type": "code",
   "execution_count": 3,
   "metadata": {
    "id": "MUPjCluJytMG"
   },
   "outputs": [],
   "source": [
    "import zipfile\n",
    "zip_folder = '/content/drive/My Drive/tiny-imagenet-200.zip'\n",
    "destination = '/content/JEDI/data/'\n",
    "with zipfile.ZipFile(zip_folder) as zf:\n",
    "    zf.extractall(\n",
    "        destination)"
   ]
  },
  {
   "cell_type": "code",
   "execution_count": null,
   "metadata": {
    "id": "FMC0LN610oO0"
   },
   "outputs": [],
   "source": [
    "#!pip install albumentations==0.4.6"
   ]
  },
  {
   "cell_type": "code",
   "execution_count": 1,
   "metadata": {
    "colab": {
     "base_uri": "https://localhost:8080/",
     "height": 33
    },
    "id": "kRv0cildNhzI",
    "outputId": "2cc17e74-386a-4900-d127-37858ec8072a"
   },
   "outputs": [
    {
     "name": "stdout",
     "output_type": "stream",
     "text": [
      "/content/JEDI/tsai.jedi\n"
     ]
    }
   ],
   "source": [
    "cd /content/JEDI/tsai.jedi"
   ]
  },
  {
   "cell_type": "code",
   "execution_count": 2,
   "metadata": {
    "id": "HHxWfLf4NQoH"
   },
   "outputs": [],
   "source": [
    "import config \n",
    "config.imagenet_directory = '/content/JEDI/data'\n",
    "import config\n",
    "config.update_var()"
   ]
  },
  {
   "cell_type": "code",
   "execution_count": 7,
   "metadata": {
    "id": "xW67xgKrNdy6"
   },
   "outputs": [],
   "source": [
    "import sys\n",
    "from lr_finder import LRFinder\n",
    "import torch.nn as nn\n",
    "from dataloader import train_loader_tinyimgnet_s12, test_loader_tinyimgnet_s12\n",
    "from aftereffects import get_image_with_target, plots\n",
    "import matplotlib.pyplot as plt\n",
    "import torch.optim as optim\n",
    "import sys\n",
    "import config"
   ]
  },
  {
   "cell_type": "code",
   "execution_count": 4,
   "metadata": {
    "id": "qK7X04Uv1cdD"
   },
   "outputs": [],
   "source": [
    "import sys\n",
    "sys.path.append('Models')\n",
    "from S9_resnet import resnet18\n",
    "from S7 import model_summary"
   ]
  },
  {
   "cell_type": "code",
   "execution_count": 5,
   "metadata": {
    "colab": {
     "base_uri": "https://localhost:8080/",
     "height": 1000
    },
    "id": "kuUat6iZ1o8Z",
    "outputId": "04ae9d38-038b-4b63-86f5-888d733eb2c7"
   },
   "outputs": [
    {
     "name": "stdout",
     "output_type": "stream",
     "text": [
      "----------------------------------------------------------------\n",
      "        Layer (type)               Output Shape         Param #\n",
      "================================================================\n",
      "            Conv2d-1           [-1, 64, 64, 64]           1,728\n",
      "       BatchNorm2d-2           [-1, 64, 64, 64]             128\n",
      "              ReLU-3           [-1, 64, 64, 64]               0\n",
      "            Conv2d-4           [-1, 64, 64, 64]          36,864\n",
      "       BatchNorm2d-5           [-1, 64, 64, 64]             128\n",
      "              ReLU-6           [-1, 64, 64, 64]               0\n",
      "            Conv2d-7           [-1, 64, 64, 64]          36,864\n",
      "       BatchNorm2d-8           [-1, 64, 64, 64]             128\n",
      "              ReLU-9           [-1, 64, 64, 64]               0\n",
      "       BasicBlock-10           [-1, 64, 64, 64]               0\n",
      "           Conv2d-11           [-1, 64, 64, 64]          36,864\n",
      "      BatchNorm2d-12           [-1, 64, 64, 64]             128\n",
      "             ReLU-13           [-1, 64, 64, 64]               0\n",
      "           Conv2d-14           [-1, 64, 64, 64]          36,864\n",
      "      BatchNorm2d-15           [-1, 64, 64, 64]             128\n",
      "             ReLU-16           [-1, 64, 64, 64]               0\n",
      "       BasicBlock-17           [-1, 64, 64, 64]               0\n",
      "           Conv2d-18          [-1, 128, 32, 32]          73,728\n",
      "      BatchNorm2d-19          [-1, 128, 32, 32]             256\n",
      "             ReLU-20          [-1, 128, 32, 32]               0\n",
      "           Conv2d-21          [-1, 128, 32, 32]         147,456\n",
      "      BatchNorm2d-22          [-1, 128, 32, 32]             256\n",
      "           Conv2d-23          [-1, 128, 32, 32]           8,192\n",
      "      BatchNorm2d-24          [-1, 128, 32, 32]             256\n",
      "             ReLU-25          [-1, 128, 32, 32]               0\n",
      "       BasicBlock-26          [-1, 128, 32, 32]               0\n",
      "           Conv2d-27          [-1, 128, 32, 32]         147,456\n",
      "      BatchNorm2d-28          [-1, 128, 32, 32]             256\n",
      "             ReLU-29          [-1, 128, 32, 32]               0\n",
      "           Conv2d-30          [-1, 128, 32, 32]         147,456\n",
      "      BatchNorm2d-31          [-1, 128, 32, 32]             256\n",
      "             ReLU-32          [-1, 128, 32, 32]               0\n",
      "       BasicBlock-33          [-1, 128, 32, 32]               0\n",
      "           Conv2d-34          [-1, 256, 16, 16]         294,912\n",
      "      BatchNorm2d-35          [-1, 256, 16, 16]             512\n",
      "             ReLU-36          [-1, 256, 16, 16]               0\n",
      "           Conv2d-37          [-1, 256, 16, 16]         589,824\n",
      "      BatchNorm2d-38          [-1, 256, 16, 16]             512\n",
      "           Conv2d-39          [-1, 256, 16, 16]          32,768\n",
      "      BatchNorm2d-40          [-1, 256, 16, 16]             512\n",
      "             ReLU-41          [-1, 256, 16, 16]               0\n",
      "       BasicBlock-42          [-1, 256, 16, 16]               0\n",
      "           Conv2d-43          [-1, 256, 16, 16]         589,824\n",
      "      BatchNorm2d-44          [-1, 256, 16, 16]             512\n",
      "             ReLU-45          [-1, 256, 16, 16]               0\n",
      "           Conv2d-46          [-1, 256, 16, 16]         589,824\n",
      "      BatchNorm2d-47          [-1, 256, 16, 16]             512\n",
      "             ReLU-48          [-1, 256, 16, 16]               0\n",
      "       BasicBlock-49          [-1, 256, 16, 16]               0\n",
      "           Conv2d-50            [-1, 512, 8, 8]       1,179,648\n",
      "      BatchNorm2d-51            [-1, 512, 8, 8]           1,024\n",
      "             ReLU-52            [-1, 512, 8, 8]               0\n",
      "           Conv2d-53            [-1, 512, 8, 8]       2,359,296\n",
      "      BatchNorm2d-54            [-1, 512, 8, 8]           1,024\n",
      "           Conv2d-55            [-1, 512, 8, 8]         131,072\n",
      "      BatchNorm2d-56            [-1, 512, 8, 8]           1,024\n",
      "             ReLU-57            [-1, 512, 8, 8]               0\n",
      "       BasicBlock-58            [-1, 512, 8, 8]               0\n",
      "           Conv2d-59            [-1, 512, 8, 8]       2,359,296\n",
      "      BatchNorm2d-60            [-1, 512, 8, 8]           1,024\n",
      "             ReLU-61            [-1, 512, 8, 8]               0\n",
      "           Conv2d-62            [-1, 512, 8, 8]       2,359,296\n",
      "      BatchNorm2d-63            [-1, 512, 8, 8]           1,024\n",
      "             ReLU-64            [-1, 512, 8, 8]               0\n",
      "       BasicBlock-65            [-1, 512, 8, 8]               0\n",
      "AdaptiveAvgPool2d-66            [-1, 512, 1, 1]               0\n",
      "           Linear-67                  [-1, 200]         102,600\n",
      "================================================================\n",
      "Total params: 11,271,432\n",
      "Trainable params: 11,271,432\n",
      "Non-trainable params: 0\n",
      "----------------------------------------------------------------\n",
      "Input size (MB): 0.05\n",
      "Forward/backward pass size (MB): 62.01\n",
      "Params size (MB): 43.00\n",
      "Estimated Total Size (MB): 105.05\n",
      "----------------------------------------------------------------\n",
      "None\n"
     ]
    }
   ],
   "source": [
    "model_ = resnet18(num_classes=200, pretrained=False).to(config.device)\n",
    "print(model_summary(model_, (3,64,64)))"
   ]
  },
  {
   "cell_type": "code",
   "execution_count": 6,
   "metadata": {
    "colab": {
     "base_uri": "https://localhost:8080/",
     "height": 1000
    },
    "id": "jNcevPYv7Fdj",
    "outputId": "a2f900f8-7536-4816-db9d-c1cb6d73111f"
   },
   "outputs": [
    {
     "name": "stderr",
     "output_type": "stream",
     "text": []
    },
    {
     "name": "stdout",
     "output_type": "stream",
     "text": [
      "Epoch: 1,LR: 0.0171.\n",
      "Train set: train Average loss: 4.6888, train_Accuracy: 4482/77000 (5.8208%)\n",
      "\n"
     ]
    },
    {
     "name": "stderr",
     "output_type": "stream",
     "text": [
      "loss=4.277400493621826 batch_id=0:   0%|          | 1/1204 [00:00<03:19,  6.02it/s]"
     ]
    },
    {
     "name": "stdout",
     "output_type": "stream",
     "text": [
      "\n",
      "Test set: Average loss: 0.0662, Accuracy: 3331/33000 (10.0939%)\n",
      "\n"
     ]
    },
    {
     "name": "stderr",
     "output_type": "stream",
     "text": []
    },
    {
     "name": "stdout",
     "output_type": "stream",
     "text": [
      "Epoch: 2,LR: 0.0171.\n",
      "Train set: train Average loss: 3.3134, train_Accuracy: 11170/77000 (14.5065%)\n",
      "\n"
     ]
    },
    {
     "name": "stderr",
     "output_type": "stream",
     "text": [
      "loss=3.471430778503418 batch_id=0:   0%|          | 1/1204 [00:00<03:23,  5.90it/s]"
     ]
    },
    {
     "name": "stdout",
     "output_type": "stream",
     "text": [
      "\n",
      "Test set: Average loss: 0.0560, Accuracy: 6277/33000 (19.0212%)\n",
      "\n"
     ]
    },
    {
     "name": "stderr",
     "output_type": "stream",
     "text": []
    },
    {
     "name": "stdout",
     "output_type": "stream",
     "text": [
      "Epoch: 3,LR: 0.0171.\n",
      "Train set: train Average loss: 3.3491, train_Accuracy: 16697/77000 (21.6844%)\n",
      "\n"
     ]
    },
    {
     "name": "stderr",
     "output_type": "stream",
     "text": [
      "loss=3.2946836948394775 batch_id=0:   0%|          | 1/1204 [00:00<03:18,  6.05it/s]"
     ]
    },
    {
     "name": "stdout",
     "output_type": "stream",
     "text": [
      "\n",
      "Test set: Average loss: 0.0534, Accuracy: 7532/33000 (22.8242%)\n",
      "\n"
     ]
    },
    {
     "name": "stderr",
     "output_type": "stream",
     "text": []
    },
    {
     "name": "stdout",
     "output_type": "stream",
     "text": [
      "Epoch: 4,LR: 0.0171.\n",
      "Train set: train Average loss: 2.8347, train_Accuracy: 21007/77000 (27.2818%)\n",
      "\n"
     ]
    },
    {
     "name": "stderr",
     "output_type": "stream",
     "text": [
      "loss=3.1103451251983643 batch_id=0:   0%|          | 1/1204 [00:00<03:25,  5.86it/s]"
     ]
    },
    {
     "name": "stdout",
     "output_type": "stream",
     "text": [
      "\n",
      "Test set: Average loss: 0.0507, Accuracy: 8622/33000 (26.1273%)\n",
      "\n"
     ]
    },
    {
     "name": "stderr",
     "output_type": "stream",
     "text": []
    },
    {
     "name": "stdout",
     "output_type": "stream",
     "text": [
      "Epoch: 5,LR: 0.0171.\n",
      "Train set: train Average loss: 3.8900, train_Accuracy: 24180/77000 (31.4026%)\n",
      "\n"
     ]
    },
    {
     "name": "stderr",
     "output_type": "stream",
     "text": [
      "loss=2.5902562141418457 batch_id=0:   0%|          | 1/1204 [00:00<03:21,  5.98it/s]"
     ]
    },
    {
     "name": "stdout",
     "output_type": "stream",
     "text": [
      "\n",
      "Test set: Average loss: 0.0457, Accuracy: 10279/33000 (31.1485%)\n",
      "\n"
     ]
    },
    {
     "name": "stderr",
     "output_type": "stream",
     "text": []
    },
    {
     "name": "stdout",
     "output_type": "stream",
     "text": [
      "Epoch: 6,LR: 0.0171.\n",
      "Train set: train Average loss: 2.9035, train_Accuracy: 27104/77000 (35.2000%)\n",
      "\n"
     ]
    },
    {
     "name": "stderr",
     "output_type": "stream",
     "text": [
      "loss=2.6070377826690674 batch_id=0:   0%|          | 1/1204 [00:00<03:21,  5.97it/s]"
     ]
    },
    {
     "name": "stdout",
     "output_type": "stream",
     "text": [
      "\n",
      "Test set: Average loss: 0.0437, Accuracy: 11398/33000 (34.5394%)\n",
      "\n"
     ]
    },
    {
     "name": "stderr",
     "output_type": "stream",
     "text": []
    },
    {
     "name": "stdout",
     "output_type": "stream",
     "text": [
      "Epoch: 7,LR: 0.0171.\n",
      "Train set: train Average loss: 2.5723, train_Accuracy: 29585/77000 (38.4221%)\n",
      "\n"
     ]
    },
    {
     "name": "stderr",
     "output_type": "stream",
     "text": [
      "loss=2.5528364181518555 batch_id=0:   0%|          | 1/1204 [00:00<03:19,  6.02it/s]"
     ]
    },
    {
     "name": "stdout",
     "output_type": "stream",
     "text": [
      "\n",
      "Test set: Average loss: 0.0412, Accuracy: 12539/33000 (37.9970%)\n",
      "\n"
     ]
    },
    {
     "name": "stderr",
     "output_type": "stream",
     "text": []
    },
    {
     "name": "stdout",
     "output_type": "stream",
     "text": [
      "Epoch: 8,LR: 0.0171.\n",
      "Train set: train Average loss: 2.9618, train_Accuracy: 31772/77000 (41.2623%)\n",
      "\n"
     ]
    },
    {
     "name": "stderr",
     "output_type": "stream",
     "text": [
      "loss=2.5181920528411865 batch_id=0:   0%|          | 1/1204 [00:00<03:24,  5.87it/s]"
     ]
    },
    {
     "name": "stdout",
     "output_type": "stream",
     "text": [
      "\n",
      "Test set: Average loss: 0.0406, Accuracy: 12585/33000 (38.1364%)\n",
      "\n"
     ]
    },
    {
     "name": "stderr",
     "output_type": "stream",
     "text": []
    },
    {
     "name": "stdout",
     "output_type": "stream",
     "text": [
      "Epoch: 9,LR: 0.0171.\n",
      "Train set: train Average loss: 2.8184, train_Accuracy: 33637/77000 (43.6844%)\n",
      "\n"
     ]
    },
    {
     "name": "stderr",
     "output_type": "stream",
     "text": [
      "loss=1.7858108282089233 batch_id=0:   0%|          | 1/1204 [00:00<03:22,  5.94it/s]"
     ]
    },
    {
     "name": "stdout",
     "output_type": "stream",
     "text": [
      "\n",
      "Test set: Average loss: 0.0382, Accuracy: 13698/33000 (41.5091%)\n",
      "\n"
     ]
    },
    {
     "name": "stderr",
     "output_type": "stream",
     "text": []
    },
    {
     "name": "stdout",
     "output_type": "stream",
     "text": [
      "Epoch: 10,LR: 0.0171.\n",
      "Train set: train Average loss: 2.7551, train_Accuracy: 35144/77000 (45.6416%)\n",
      "\n"
     ]
    },
    {
     "name": "stderr",
     "output_type": "stream",
     "text": [
      "loss=1.8939528465270996 batch_id=0:   0%|          | 1/1204 [00:00<03:20,  6.01it/s]"
     ]
    },
    {
     "name": "stdout",
     "output_type": "stream",
     "text": [
      "\n",
      "Test set: Average loss: 0.0387, Accuracy: 13524/33000 (40.9818%)\n",
      "\n"
     ]
    },
    {
     "name": "stderr",
     "output_type": "stream",
     "text": []
    },
    {
     "name": "stdout",
     "output_type": "stream",
     "text": [
      "Epoch: 11,LR: 0.0171.\n",
      "Train set: train Average loss: 3.1023, train_Accuracy: 36830/77000 (47.8312%)\n",
      "\n"
     ]
    },
    {
     "name": "stderr",
     "output_type": "stream",
     "text": [
      "loss=1.9848212003707886 batch_id=0:   0%|          | 1/1204 [00:00<03:26,  5.82it/s]"
     ]
    },
    {
     "name": "stdout",
     "output_type": "stream",
     "text": [
      "\n",
      "Test set: Average loss: 0.0361, Accuracy: 14593/33000 (44.2212%)\n",
      "\n"
     ]
    },
    {
     "name": "stderr",
     "output_type": "stream",
     "text": []
    },
    {
     "name": "stdout",
     "output_type": "stream",
     "text": [
      "Epoch: 12,LR: 0.0171.\n",
      "Train set: train Average loss: 3.3616, train_Accuracy: 38013/77000 (49.3675%)\n",
      "\n"
     ]
    },
    {
     "name": "stderr",
     "output_type": "stream",
     "text": [
      "loss=1.6853293180465698 batch_id=0:   0%|          | 1/1204 [00:00<03:18,  6.06it/s]"
     ]
    },
    {
     "name": "stdout",
     "output_type": "stream",
     "text": [
      "\n",
      "Test set: Average loss: 0.0360, Accuracy: 14605/33000 (44.2576%)\n",
      "\n"
     ]
    },
    {
     "name": "stderr",
     "output_type": "stream",
     "text": []
    },
    {
     "name": "stdout",
     "output_type": "stream",
     "text": [
      "Epoch: 13,LR: 0.0171.\n",
      "Train set: train Average loss: 2.2101, train_Accuracy: 39414/77000 (51.1870%)\n",
      "\n"
     ]
    },
    {
     "name": "stderr",
     "output_type": "stream",
     "text": [
      "loss=1.8609826564788818 batch_id=0:   0%|          | 1/1204 [00:00<03:22,  5.93it/s]"
     ]
    },
    {
     "name": "stdout",
     "output_type": "stream",
     "text": [
      "\n",
      "Test set: Average loss: 0.0366, Accuracy: 14705/33000 (44.5606%)\n",
      "\n"
     ]
    },
    {
     "name": "stderr",
     "output_type": "stream",
     "text": []
    },
    {
     "name": "stdout",
     "output_type": "stream",
     "text": [
      "Epoch: 14,LR: 0.0171.\n",
      "Train set: train Average loss: 2.7753, train_Accuracy: 40304/77000 (52.3429%)\n",
      "\n"
     ]
    },
    {
     "name": "stderr",
     "output_type": "stream",
     "text": [
      "loss=1.6653642654418945 batch_id=0:   0%|          | 1/1204 [00:00<03:24,  5.90it/s]"
     ]
    },
    {
     "name": "stdout",
     "output_type": "stream",
     "text": [
      "\n",
      "Test set: Average loss: 0.0364, Accuracy: 14787/33000 (44.8091%)\n",
      "\n"
     ]
    },
    {
     "name": "stderr",
     "output_type": "stream",
     "text": []
    },
    {
     "name": "stdout",
     "output_type": "stream",
     "text": [
      "Epoch: 15,LR: 0.0171.\n",
      "Train set: train Average loss: 3.1667, train_Accuracy: 41353/77000 (53.7052%)\n",
      "\n"
     ]
    },
    {
     "name": "stderr",
     "output_type": "stream",
     "text": [
      "loss=1.8769721984863281 batch_id=0:   0%|          | 1/1204 [00:00<03:30,  5.71it/s]"
     ]
    },
    {
     "name": "stdout",
     "output_type": "stream",
     "text": [
      "\n",
      "Test set: Average loss: 0.0335, Accuracy: 15798/33000 (47.8727%)\n",
      "\n"
     ]
    },
    {
     "name": "stderr",
     "output_type": "stream",
     "text": []
    },
    {
     "name": "stdout",
     "output_type": "stream",
     "text": [
      "Epoch: 16,LR: 0.0171.\n",
      "Train set: train Average loss: 3.2455, train_Accuracy: 42268/77000 (54.8935%)\n",
      "\n"
     ]
    },
    {
     "name": "stderr",
     "output_type": "stream",
     "text": [
      "loss=1.5240530967712402 batch_id=0:   0%|          | 1/1204 [00:00<03:23,  5.92it/s]"
     ]
    },
    {
     "name": "stdout",
     "output_type": "stream",
     "text": [
      "\n",
      "Test set: Average loss: 0.0350, Accuracy: 15356/33000 (46.5333%)\n",
      "\n"
     ]
    },
    {
     "name": "stderr",
     "output_type": "stream",
     "text": []
    },
    {
     "name": "stdout",
     "output_type": "stream",
     "text": [
      "Epoch: 17,LR: 0.0171.\n",
      "Train set: train Average loss: 4.1124, train_Accuracy: 43103/77000 (55.9779%)\n",
      "\n"
     ]
    },
    {
     "name": "stderr",
     "output_type": "stream",
     "text": [
      "loss=1.6289016008377075 batch_id=0:   0%|          | 1/1204 [00:00<03:29,  5.75it/s]"
     ]
    },
    {
     "name": "stdout",
     "output_type": "stream",
     "text": [
      "\n",
      "Test set: Average loss: 0.0339, Accuracy: 15927/33000 (48.2636%)\n",
      "\n"
     ]
    },
    {
     "name": "stderr",
     "output_type": "stream",
     "text": []
    },
    {
     "name": "stdout",
     "output_type": "stream",
     "text": [
      "Epoch: 18,LR: 0.0171.\n",
      "Train set: train Average loss: 2.8546, train_Accuracy: 43976/77000 (57.1117%)\n",
      "\n"
     ]
    },
    {
     "name": "stderr",
     "output_type": "stream",
     "text": [
      "loss=1.6781344413757324 batch_id=0:   0%|          | 1/1204 [00:00<03:24,  5.90it/s]"
     ]
    },
    {
     "name": "stdout",
     "output_type": "stream",
     "text": [
      "\n",
      "Test set: Average loss: 0.0366, Accuracy: 14904/33000 (45.1636%)\n",
      "\n"
     ]
    },
    {
     "name": "stderr",
     "output_type": "stream",
     "text": []
    },
    {
     "name": "stdout",
     "output_type": "stream",
     "text": [
      "Epoch: 19,LR: 0.0171.\n",
      "Train set: train Average loss: 3.0441, train_Accuracy: 44401/77000 (57.6636%)\n",
      "\n"
     ]
    },
    {
     "name": "stderr",
     "output_type": "stream",
     "text": [
      "loss=1.6176316738128662 batch_id=0:   0%|          | 1/1204 [00:00<03:21,  5.98it/s]"
     ]
    },
    {
     "name": "stdout",
     "output_type": "stream",
     "text": [
      "\n",
      "Test set: Average loss: 0.0339, Accuracy: 15950/33000 (48.3333%)\n",
      "\n"
     ]
    },
    {
     "name": "stderr",
     "output_type": "stream",
     "text": []
    },
    {
     "name": "stdout",
     "output_type": "stream",
     "text": [
      "Epoch: 20,LR: 0.0017100000000000001.\n",
      "Train set: train Average loss: 1.2301, train_Accuracy: 54634/77000 (70.9532%)\n",
      "\n"
     ]
    },
    {
     "name": "stderr",
     "output_type": "stream",
     "text": [
      "loss=0.8713929057121277 batch_id=0:   0%|          | 1/1204 [00:00<03:20,  6.00it/s]"
     ]
    },
    {
     "name": "stdout",
     "output_type": "stream",
     "text": [
      "\n",
      "Test set: Average loss: 0.0257, Accuracy: 19596/33000 (59.3818%)\n",
      "\n"
     ]
    },
    {
     "name": "stderr",
     "output_type": "stream",
     "text": []
    },
    {
     "name": "stdout",
     "output_type": "stream",
     "text": [
      "Epoch: 21,LR: 0.0017100000000000001.\n",
      "Train set: train Average loss: 1.5680, train_Accuracy: 57538/77000 (74.7247%)\n",
      "\n"
     ]
    },
    {
     "name": "stderr",
     "output_type": "stream",
     "text": [
      "loss=0.9497218132019043 batch_id=0:   0%|          | 1/1204 [00:00<03:25,  5.87it/s]"
     ]
    },
    {
     "name": "stdout",
     "output_type": "stream",
     "text": [
      "\n",
      "Test set: Average loss: 0.0254, Accuracy: 19807/33000 (60.0212%)\n",
      "\n"
     ]
    },
    {
     "name": "stderr",
     "output_type": "stream",
     "text": []
    },
    {
     "name": "stdout",
     "output_type": "stream",
     "text": [
      "Epoch: 22,LR: 0.0017100000000000001.\n",
      "Train set: train Average loss: 2.1637, train_Accuracy: 59157/77000 (76.8273%)\n",
      "\n"
     ]
    },
    {
     "name": "stderr",
     "output_type": "stream",
     "text": [
      "loss=0.5399889945983887 batch_id=0:   0%|          | 1/1204 [00:00<03:24,  5.87it/s]"
     ]
    },
    {
     "name": "stdout",
     "output_type": "stream",
     "text": [
      "\n",
      "Test set: Average loss: 0.0252, Accuracy: 19851/33000 (60.1545%)\n",
      "\n"
     ]
    },
    {
     "name": "stderr",
     "output_type": "stream",
     "text": []
    },
    {
     "name": "stdout",
     "output_type": "stream",
     "text": [
      "Epoch: 23,LR: 0.0017100000000000001.\n",
      "Train set: train Average loss: 1.0466, train_Accuracy: 60180/77000 (78.1558%)\n",
      "\n"
     ]
    },
    {
     "name": "stderr",
     "output_type": "stream",
     "text": [
      "loss=1.1937553882598877 batch_id=0:   0%|          | 1/1204 [00:00<03:27,  5.79it/s]"
     ]
    },
    {
     "name": "stdout",
     "output_type": "stream",
     "text": [
      "\n",
      "Test set: Average loss: 0.0252, Accuracy: 19863/33000 (60.1909%)\n",
      "\n"
     ]
    },
    {
     "name": "stderr",
     "output_type": "stream",
     "text": []
    },
    {
     "name": "stdout",
     "output_type": "stream",
     "text": [
      "Epoch: 24,LR: 0.0017100000000000001.\n",
      "Train set: train Average loss: 0.9203, train_Accuracy: 61252/77000 (79.5481%)\n",
      "\n"
     ]
    },
    {
     "name": "stderr",
     "output_type": "stream",
     "text": [
      "loss=0.7932547330856323 batch_id=0:   0%|          | 1/1204 [00:00<03:24,  5.88it/s]"
     ]
    },
    {
     "name": "stdout",
     "output_type": "stream",
     "text": [
      "\n",
      "Test set: Average loss: 0.0254, Accuracy: 19873/33000 (60.2212%)\n",
      "\n"
     ]
    },
    {
     "name": "stderr",
     "output_type": "stream",
     "text": []
    },
    {
     "name": "stdout",
     "output_type": "stream",
     "text": [
      "Epoch: 25,LR: 0.0017100000000000001.\n",
      "Train set: train Average loss: 1.8993, train_Accuracy: 62160/77000 (80.7273%)\n",
      "\n"
     ]
    },
    {
     "name": "stderr",
     "output_type": "stream",
     "text": [
      "loss=0.7484937310218811 batch_id=0:   0%|          | 1/1204 [00:00<03:25,  5.85it/s]"
     ]
    },
    {
     "name": "stdout",
     "output_type": "stream",
     "text": [
      "\n",
      "Test set: Average loss: 0.0254, Accuracy: 19886/33000 (60.2606%)\n",
      "\n"
     ]
    },
    {
     "name": "stderr",
     "output_type": "stream",
     "text": []
    },
    {
     "name": "stdout",
     "output_type": "stream",
     "text": [
      "Epoch: 26,LR: 0.0017100000000000001.\n",
      "Train set: train Average loss: 1.8301, train_Accuracy: 63051/77000 (81.8844%)\n",
      "\n"
     ]
    },
    {
     "name": "stderr",
     "output_type": "stream",
     "text": [
      "loss=0.693821370601654 batch_id=0:   0%|          | 1/1204 [00:00<03:19,  6.04it/s]"
     ]
    },
    {
     "name": "stdout",
     "output_type": "stream",
     "text": [
      "\n",
      "Test set: Average loss: 0.0256, Accuracy: 19839/33000 (60.1182%)\n",
      "\n"
     ]
    },
    {
     "name": "stderr",
     "output_type": "stream",
     "text": []
    },
    {
     "name": "stdout",
     "output_type": "stream",
     "text": [
      "Epoch: 27,LR: 0.00017100000000000004.\n",
      "Train set: train Average loss: 1.6247, train_Accuracy: 65067/77000 (84.5026%)\n",
      "\n"
     ]
    },
    {
     "name": "stderr",
     "output_type": "stream",
     "text": [
      "loss=0.6118738651275635 batch_id=0:   0%|          | 1/1204 [00:00<03:19,  6.04it/s]"
     ]
    },
    {
     "name": "stdout",
     "output_type": "stream",
     "text": [
      "\n",
      "Test set: Average loss: 0.0251, Accuracy: 20050/33000 (60.7576%)\n",
      "\n"
     ]
    },
    {
     "name": "stderr",
     "output_type": "stream",
     "text": []
    },
    {
     "name": "stdout",
     "output_type": "stream",
     "text": [
      "Epoch: 28,LR: 0.00017100000000000004.\n",
      "Train set: train Average loss: 1.1278, train_Accuracy: 65672/77000 (85.2883%)\n",
      "\n"
     ]
    },
    {
     "name": "stderr",
     "output_type": "stream",
     "text": [
      "loss=0.47044578194618225 batch_id=0:   0%|          | 1/1204 [00:00<03:22,  5.94it/s]"
     ]
    },
    {
     "name": "stdout",
     "output_type": "stream",
     "text": [
      "\n",
      "Test set: Average loss: 0.0251, Accuracy: 20047/33000 (60.7485%)\n",
      "\n"
     ]
    },
    {
     "name": "stderr",
     "output_type": "stream",
     "text": []
    },
    {
     "name": "stdout",
     "output_type": "stream",
     "text": [
      "Epoch: 29,LR: 0.00017100000000000004.\n",
      "Train set: train Average loss: 0.5209, train_Accuracy: 65588/77000 (85.1792%)\n",
      "\n"
     ]
    },
    {
     "name": "stderr",
     "output_type": "stream",
     "text": [
      "loss=0.5405755639076233 batch_id=0:   0%|          | 1/1204 [00:00<03:24,  5.88it/s]"
     ]
    },
    {
     "name": "stdout",
     "output_type": "stream",
     "text": [
      "\n",
      "Test set: Average loss: 0.0251, Accuracy: 20088/33000 (60.8727%)\n",
      "\n"
     ]
    },
    {
     "name": "stderr",
     "output_type": "stream",
     "text": []
    },
    {
     "name": "stdout",
     "output_type": "stream",
     "text": [
      "Epoch: 30,LR: 0.00017100000000000004.\n",
      "Train set: train Average loss: 0.7037, train_Accuracy: 65981/77000 (85.6896%)\n",
      "\n"
     ]
    },
    {
     "name": "stderr",
     "output_type": "stream",
     "text": [
      "loss=0.5152331590652466 batch_id=0:   0%|          | 1/1204 [00:00<03:22,  5.94it/s]"
     ]
    },
    {
     "name": "stdout",
     "output_type": "stream",
     "text": [
      "\n",
      "Test set: Average loss: 0.0252, Accuracy: 20062/33000 (60.7939%)\n",
      "\n"
     ]
    },
    {
     "name": "stderr",
     "output_type": "stream",
     "text": []
    },
    {
     "name": "stdout",
     "output_type": "stream",
     "text": [
      "Epoch: 31,LR: 0.00017100000000000004.\n",
      "Train set: train Average loss: 1.2727, train_Accuracy: 65982/77000 (85.6909%)\n",
      "\n"
     ]
    },
    {
     "name": "stderr",
     "output_type": "stream",
     "text": [
      "loss=0.5600218772888184 batch_id=0:   0%|          | 1/1204 [00:00<03:29,  5.75it/s]"
     ]
    },
    {
     "name": "stdout",
     "output_type": "stream",
     "text": [
      "\n",
      "Test set: Average loss: 0.0252, Accuracy: 20011/33000 (60.6394%)\n",
      "\n"
     ]
    },
    {
     "name": "stderr",
     "output_type": "stream",
     "text": []
    },
    {
     "name": "stdout",
     "output_type": "stream",
     "text": [
      "Epoch: 32,LR: 0.00017100000000000004.\n",
      "Train set: train Average loss: 1.0124, train_Accuracy: 66198/77000 (85.9714%)\n",
      "\n"
     ]
    },
    {
     "name": "stderr",
     "output_type": "stream",
     "text": [
      "loss=0.41587647795677185 batch_id=0:   0%|          | 1/1204 [00:00<03:20,  6.00it/s]"
     ]
    },
    {
     "name": "stdout",
     "output_type": "stream",
     "text": [
      "\n",
      "Test set: Average loss: 0.0252, Accuracy: 20023/33000 (60.6758%)\n",
      "\n"
     ]
    },
    {
     "name": "stderr",
     "output_type": "stream",
     "text": []
    },
    {
     "name": "stdout",
     "output_type": "stream",
     "text": [
      "Epoch: 33,LR: 0.00017100000000000004.\n",
      "Train set: train Average loss: 0.9735, train_Accuracy: 66316/77000 (86.1247%)\n",
      "\n"
     ]
    },
    {
     "name": "stderr",
     "output_type": "stream",
     "text": [
      "loss=0.6356143951416016 batch_id=0:   0%|          | 1/1204 [00:00<03:18,  6.05it/s]"
     ]
    },
    {
     "name": "stdout",
     "output_type": "stream",
     "text": [
      "\n",
      "Test set: Average loss: 0.0251, Accuracy: 20101/33000 (60.9121%)\n",
      "\n"
     ]
    },
    {
     "name": "stderr",
     "output_type": "stream",
     "text": []
    },
    {
     "name": "stdout",
     "output_type": "stream",
     "text": [
      "Epoch: 34,LR: 1.7100000000000006e-05.\n",
      "Train set: train Average loss: 2.5052, train_Accuracy: 66535/77000 (86.4091%)\n",
      "\n"
     ]
    },
    {
     "name": "stderr",
     "output_type": "stream",
     "text": [
      "loss=0.5468313694000244 batch_id=0:   0%|          | 1/1204 [00:00<03:22,  5.93it/s]"
     ]
    },
    {
     "name": "stdout",
     "output_type": "stream",
     "text": [
      "\n",
      "Test set: Average loss: 0.0252, Accuracy: 20049/33000 (60.7545%)\n",
      "\n"
     ]
    },
    {
     "name": "stderr",
     "output_type": "stream",
     "text": []
    },
    {
     "name": "stdout",
     "output_type": "stream",
     "text": [
      "Epoch: 35,LR: 1.7100000000000006e-05.\n",
      "Train set: train Average loss: 0.9089, train_Accuracy: 66643/77000 (86.5494%)\n",
      "\n"
     ]
    },
    {
     "name": "stderr",
     "output_type": "stream",
     "text": [
      "loss=0.6869575381278992 batch_id=0:   0%|          | 1/1204 [00:00<03:29,  5.75it/s]"
     ]
    },
    {
     "name": "stdout",
     "output_type": "stream",
     "text": [
      "\n",
      "Test set: Average loss: 0.0252, Accuracy: 20046/33000 (60.7455%)\n",
      "\n"
     ]
    },
    {
     "name": "stderr",
     "output_type": "stream",
     "text": []
    },
    {
     "name": "stdout",
     "output_type": "stream",
     "text": [
      "Epoch: 36,LR: 1.7100000000000006e-05.\n",
      "Train set: train Average loss: 1.0113, train_Accuracy: 66588/77000 (86.4779%)\n",
      "\n"
     ]
    },
    {
     "name": "stderr",
     "output_type": "stream",
     "text": [
      "loss=0.7439812421798706 batch_id=0:   0%|          | 1/1204 [00:00<03:26,  5.83it/s]"
     ]
    },
    {
     "name": "stdout",
     "output_type": "stream",
     "text": [
      "\n",
      "Test set: Average loss: 0.0252, Accuracy: 20104/33000 (60.9212%)\n",
      "\n"
     ]
    },
    {
     "name": "stderr",
     "output_type": "stream",
     "text": []
    },
    {
     "name": "stdout",
     "output_type": "stream",
     "text": [
      "Epoch: 37,LR: 1.7100000000000006e-05.\n",
      "Train set: train Average loss: 0.5956, train_Accuracy: 66732/77000 (86.6649%)\n",
      "\n"
     ]
    },
    {
     "name": "stderr",
     "output_type": "stream",
     "text": [
      "loss=0.5009726881980896 batch_id=0:   0%|          | 1/1204 [00:00<03:27,  5.81it/s]"
     ]
    },
    {
     "name": "stdout",
     "output_type": "stream",
     "text": [
      "\n",
      "Test set: Average loss: 0.0252, Accuracy: 20064/33000 (60.8000%)\n",
      "\n"
     ]
    },
    {
     "name": "stderr",
     "output_type": "stream",
     "text": []
    },
    {
     "name": "stdout",
     "output_type": "stream",
     "text": [
      "Epoch: 38,LR: 1.7100000000000006e-06.\n",
      "Train set: train Average loss: 0.7016, train_Accuracy: 66568/77000 (86.4519%)\n",
      "\n"
     ]
    },
    {
     "name": "stderr",
     "output_type": "stream",
     "text": [
      "loss=0.43640121817588806 batch_id=0:   0%|          | 1/1204 [00:00<03:30,  5.71it/s]"
     ]
    },
    {
     "name": "stdout",
     "output_type": "stream",
     "text": [
      "\n",
      "Test set: Average loss: 0.0253, Accuracy: 20003/33000 (60.6152%)\n",
      "\n"
     ]
    },
    {
     "name": "stderr",
     "output_type": "stream",
     "text": []
    },
    {
     "name": "stdout",
     "output_type": "stream",
     "text": [
      "Epoch: 39,LR: 1.7100000000000006e-06.\n",
      "Train set: train Average loss: 0.5092, train_Accuracy: 66759/77000 (86.7000%)\n",
      "\n"
     ]
    },
    {
     "name": "stderr",
     "output_type": "stream",
     "text": [
      "loss=0.767060399055481 batch_id=0:   0%|          | 1/1204 [00:00<03:25,  5.84it/s]"
     ]
    },
    {
     "name": "stdout",
     "output_type": "stream",
     "text": [
      "\n",
      "Test set: Average loss: 0.0251, Accuracy: 20123/33000 (60.9788%)\n",
      "\n"
     ]
    },
    {
     "name": "stderr",
     "output_type": "stream",
     "text": []
    },
    {
     "name": "stdout",
     "output_type": "stream",
     "text": [
      "Epoch: 40,LR: 1.7100000000000006e-06.\n",
      "Train set: train Average loss: 1.0284, train_Accuracy: 66549/77000 (86.4273%)\n",
      "\n"
     ]
    },
    {
     "name": "stderr",
     "output_type": "stream",
     "text": [
      "loss=0.7505624890327454 batch_id=0:   0%|          | 1/1204 [00:00<03:28,  5.76it/s]"
     ]
    },
    {
     "name": "stdout",
     "output_type": "stream",
     "text": [
      "\n",
      "Test set: Average loss: 0.0252, Accuracy: 20066/33000 (60.8061%)\n",
      "\n"
     ]
    },
    {
     "name": "stderr",
     "output_type": "stream",
     "text": []
    },
    {
     "name": "stdout",
     "output_type": "stream",
     "text": [
      "Epoch: 41,LR: 1.7100000000000006e-06.\n",
      "Train set: train Average loss: 1.4910, train_Accuracy: 66644/77000 (86.5506%)\n",
      "\n"
     ]
    },
    {
     "name": "stderr",
     "output_type": "stream",
     "text": [
      "loss=0.4126686751842499 batch_id=0:   0%|          | 1/1204 [00:00<03:24,  5.88it/s]"
     ]
    },
    {
     "name": "stdout",
     "output_type": "stream",
     "text": [
      "\n",
      "Test set: Average loss: 0.0252, Accuracy: 20069/33000 (60.8152%)\n",
      "\n"
     ]
    },
    {
     "name": "stderr",
     "output_type": "stream",
     "text": []
    },
    {
     "name": "stdout",
     "output_type": "stream",
     "text": [
      "Epoch: 42,LR: 1.7100000000000006e-07.\n",
      "Train set: train Average loss: 1.5645, train_Accuracy: 66672/77000 (86.5870%)\n",
      "\n"
     ]
    },
    {
     "name": "stderr",
     "output_type": "stream",
     "text": [
      "loss=0.5137936472892761 batch_id=0:   0%|          | 1/1204 [00:00<03:18,  6.07it/s]"
     ]
    },
    {
     "name": "stdout",
     "output_type": "stream",
     "text": [
      "\n",
      "Test set: Average loss: 0.0252, Accuracy: 20016/33000 (60.6545%)\n",
      "\n"
     ]
    },
    {
     "name": "stderr",
     "output_type": "stream",
     "text": []
    },
    {
     "name": "stdout",
     "output_type": "stream",
     "text": [
      "Epoch: 43,LR: 1.7100000000000006e-07.\n",
      "Train set: train Average loss: 0.3721, train_Accuracy: 66666/77000 (86.5792%)\n",
      "\n"
     ]
    },
    {
     "name": "stderr",
     "output_type": "stream",
     "text": [
      "loss=0.6142812371253967 batch_id=0:   0%|          | 1/1204 [00:00<03:22,  5.94it/s]"
     ]
    },
    {
     "name": "stdout",
     "output_type": "stream",
     "text": [
      "\n",
      "Test set: Average loss: 0.0252, Accuracy: 20128/33000 (60.9939%)\n",
      "\n"
     ]
    },
    {
     "name": "stderr",
     "output_type": "stream",
     "text": []
    },
    {
     "name": "stdout",
     "output_type": "stream",
     "text": [
      "Epoch: 44,LR: 1.7100000000000006e-07.\n",
      "Train set: train Average loss: 0.8370, train_Accuracy: 66713/77000 (86.6403%)\n",
      "\n"
     ]
    },
    {
     "name": "stderr",
     "output_type": "stream",
     "text": [
      "loss=0.7695494294166565 batch_id=0:   0%|          | 1/1204 [00:00<03:20,  6.01it/s]"
     ]
    },
    {
     "name": "stdout",
     "output_type": "stream",
     "text": [
      "\n",
      "Test set: Average loss: 0.0252, Accuracy: 20078/33000 (60.8424%)\n",
      "\n"
     ]
    },
    {
     "name": "stderr",
     "output_type": "stream",
     "text": []
    },
    {
     "name": "stdout",
     "output_type": "stream",
     "text": [
      "Epoch: 45,LR: 1.7100000000000006e-07.\n",
      "Train set: train Average loss: 1.8005, train_Accuracy: 66701/77000 (86.6247%)\n",
      "\n"
     ]
    },
    {
     "name": "stderr",
     "output_type": "stream",
     "text": [
      "loss=0.3533248007297516 batch_id=0:   0%|          | 1/1204 [00:00<03:19,  6.02it/s]"
     ]
    },
    {
     "name": "stdout",
     "output_type": "stream",
     "text": [
      "\n",
      "Test set: Average loss: 0.0252, Accuracy: 20061/33000 (60.7909%)\n",
      "\n"
     ]
    },
    {
     "name": "stderr",
     "output_type": "stream",
     "text": []
    },
    {
     "name": "stdout",
     "output_type": "stream",
     "text": [
      "Epoch: 46,LR: 1.7100000000000008e-08.\n",
      "Train set: train Average loss: 2.1947, train_Accuracy: 66806/77000 (86.7610%)\n",
      "\n"
     ]
    },
    {
     "name": "stderr",
     "output_type": "stream",
     "text": [
      "loss=0.6809257864952087 batch_id=0:   0%|          | 1/1204 [00:00<03:14,  6.17it/s]"
     ]
    },
    {
     "name": "stdout",
     "output_type": "stream",
     "text": [
      "\n",
      "Test set: Average loss: 0.0252, Accuracy: 20026/33000 (60.6848%)\n",
      "\n"
     ]
    },
    {
     "name": "stderr",
     "output_type": "stream",
     "text": []
    },
    {
     "name": "stdout",
     "output_type": "stream",
     "text": [
      "Epoch: 47,LR: 1.7100000000000008e-08.\n",
      "Train set: train Average loss: 1.2669, train_Accuracy: 66661/77000 (86.5727%)\n",
      "\n"
     ]
    },
    {
     "name": "stderr",
     "output_type": "stream",
     "text": [
      "loss=0.47627225518226624 batch_id=0:   0%|          | 1/1204 [00:00<03:24,  5.87it/s]"
     ]
    },
    {
     "name": "stdout",
     "output_type": "stream",
     "text": [
      "\n",
      "Test set: Average loss: 0.0251, Accuracy: 20083/33000 (60.8576%)\n",
      "\n"
     ]
    },
    {
     "name": "stderr",
     "output_type": "stream",
     "text": []
    },
    {
     "name": "stdout",
     "output_type": "stream",
     "text": [
      "Epoch: 48,LR: 1.7100000000000008e-08.\n",
      "Train set: train Average loss: 0.7318, train_Accuracy: 66707/77000 (86.6325%)\n",
      "\n"
     ]
    },
    {
     "name": "stderr",
     "output_type": "stream",
     "text": [
      "loss=0.5144408345222473 batch_id=0:   0%|          | 1/1204 [00:00<03:21,  5.97it/s]"
     ]
    },
    {
     "name": "stdout",
     "output_type": "stream",
     "text": [
      "\n",
      "Test set: Average loss: 0.0251, Accuracy: 20056/33000 (60.7758%)\n",
      "\n"
     ]
    },
    {
     "name": "stderr",
     "output_type": "stream",
     "text": []
    },
    {
     "name": "stdout",
     "output_type": "stream",
     "text": [
      "Epoch: 49,LR: 1.7100000000000008e-08.\n",
      "Train set: train Average loss: 1.6452, train_Accuracy: 66603/77000 (86.4974%)\n",
      "\n",
      "\n",
      "Test set: Average loss: 0.0252, Accuracy: 20092/33000 (60.8848%)\n",
      "\n"
     ]
    }
   ],
   "source": [
    "from torch.optim.lr_scheduler import StepLR, ReduceLROnPlateau\n",
    "from Engine_train_test import train, test\n",
    "optimizer = optim.SGD(model_.parameters(), lr=1.71E-02, momentum=0.9, weight_decay=5e-4)\n",
    "scheduler = ReduceLROnPlateau(optimizer, mode='min', factor=0.1, patience=3, threshold=0.0001, threshold_mode='rel', cooldown=0, min_lr=0, eps=1e-08, verbose=False)\n",
    "\n",
    "valid_acc = []\n",
    "valid_loss = []\n",
    "train_acc = []\n",
    "train_loss = []\n",
    "l1_regularization = [0, 0]\n",
    "for epoch in range(1, 50):\n",
    "    train_a, train_l = train(model_, config.device, train_loader_tinyimgnet_s12, optimizer, epoch, l1_regularization=[0, 1])\n",
    "    train_acc.append(train_a)\n",
    "    train_loss.append(train_l)\n",
    "    valid_a, valid_l = test(model_, config.device, test_loader_tinyimgnet_s12)\n",
    "    scheduler.step(valid_l)\n",
    "    # Appending to loss and accuracy lists\n",
    "    valid_acc.append(valid_a)\n",
    "    valid_loss.append(valid_l)"
   ]
  },
  {
   "cell_type": "code",
   "execution_count": null,
   "metadata": {
    "id": "rgM78tOWJw8v"
   },
   "outputs": [],
   "source": [
    "torch.save(model_, '/content/drive/My Drive/s12_ev5_jedi.pt')"
   ]
  },
  {
   "cell_type": "code",
   "execution_count": null,
   "metadata": {
    "id": "ZxfYVOSKQf57"
   },
   "outputs": [],
   "source": []
  }
 ],
 "metadata": {
  "accelerator": "GPU",
  "colab": {
   "collapsed_sections": [],
   "name": "s12_jedi_eva5_final.ipynb",
   "provenance": []
  },
  "kernelspec": {
   "display_name": "Python 3",
   "language": "python",
   "name": "python3"
  },
  "language_info": {
   "codemirror_mode": {
    "name": "ipython",
    "version": 3
   },
   "file_extension": ".py",
   "mimetype": "text/x-python",
   "name": "python",
   "nbconvert_exporter": "python",
   "pygments_lexer": "ipython3",
   "version": "3.7.9"
  },
  "toc": {
   "base_numbering": 1,
   "nav_menu": {},
   "number_sections": true,
   "sideBar": true,
   "skip_h1_title": false,
   "title_cell": "Table of Contents",
   "title_sidebar": "Contents",
   "toc_cell": false,
   "toc_position": {},
   "toc_section_display": true,
   "toc_window_display": false
  }
 },
 "nbformat": 4,
 "nbformat_minor": 1
}
