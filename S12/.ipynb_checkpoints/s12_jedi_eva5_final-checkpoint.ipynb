{
 "cells": [
  {
   "cell_type": "code",
   "execution_count": 1,
   "metadata": {
    "colab": {
     "base_uri": "https://localhost:8080/",
     "height": 33
    },
    "id": "ZirJqODzyVth",
    "outputId": "3567a33e-4362-4211-9b95-4c9eab05c5bb"
   },
   "outputs": [
    {
     "name": "stdout",
     "output_type": "stream",
     "text": [
      "Mounted at /content/drive\n"
     ]
    }
   ],
   "source": [
    "from google.colab import drive\n",
    "drive.mount('/content/drive')"
   ]
  },
  {
   "cell_type": "code",
   "execution_count": 2,
   "metadata": {
    "colab": {
     "base_uri": "https://localhost:8080/",
     "height": 134
    },
    "id": "pjJFaHQKy_Np",
    "outputId": "e3421922-8dc7-429c-bfff-2652c23bf9eb"
   },
   "outputs": [
    {
     "name": "stdout",
     "output_type": "stream",
     "text": [
      "Cloning into 'JEDI'...\n",
      "remote: Enumerating objects: 56, done.\u001b[K\n",
      "remote: Counting objects: 100% (56/56), done.\u001b[K\n",
      "remote: Compressing objects: 100% (51/51), done.\u001b[K\n",
      "remote: Total 782 (delta 9), reused 18 (delta 5), pack-reused 726\u001b[K\n",
      "Receiving objects: 100% (782/782), 261.54 MiB | 36.26 MiB/s, done.\n",
      "Resolving deltas: 100% (346/346), done.\n"
     ]
    }
   ],
   "source": [
    "!git clone https://github.com/theschoolof-ai/JEDI.git"
   ]
  },
  {
   "cell_type": "code",
   "execution_count": 3,
   "metadata": {
    "id": "MUPjCluJytMG"
   },
   "outputs": [],
   "source": [
    "import zipfile\n",
    "zip_folder = '/content/drive/My Drive/tiny-imagenet-200.zip'\n",
    "destination = '/content/JEDI/data/'\n",
    "with zipfile.ZipFile(zip_folder) as zf:\n",
    "    zf.extractall(\n",
    "        destination)"
   ]
  },
  {
   "cell_type": "code",
   "execution_count": 2,
   "metadata": {
    "colab": {
     "base_uri": "https://localhost:8080/",
     "height": 33
    },
    "id": "pStgp4tY0QPv",
    "outputId": "ea2f249d-b0ac-45da-9019-47198959f116"
   },
   "outputs": [
    {
     "name": "stdout",
     "output_type": "stream",
     "text": [
      "/content/JEDI/tsai.jedi\n"
     ]
    }
   ],
   "source": [
    "cd /content/JEDI/tsai.jedi"
   ]
  },
  {
   "cell_type": "code",
   "execution_count": null,
   "metadata": {
    "id": "FMC0LN610oO0"
   },
   "outputs": [],
   "source": [
    "#!pip install albumentations==0.4.6"
   ]
  },
  {
   "cell_type": "code",
   "execution_count": 3,
   "metadata": {
    "id": "E-ErmzUj7Nst"
   },
   "outputs": [],
   "source": [
    "import config \n",
    "config.imagenet_directory = '/content/JEDI/data'\n",
    "import config\n",
    "config.update_var()"
   ]
  },
  {
   "cell_type": "code",
   "execution_count": 5,
   "metadata": {
    "id": "fIATrPRP7WYH"
   },
   "outputs": [],
   "source": [
    "import sys\n",
    "from lr_finder import LRFinder\n",
    "import torch.nn as nn\n",
    "from dataloader import train_loader_tinyimgnet_s12, test_loader_tinyimgnet_s12\n",
    "from aftereffects import get_image_with_target, plots\n",
    "import matplotlib.pyplot as plt\n",
    "import torch.optim as optim\n",
    "import sys\n",
    "import config"
   ]
  },
  {
   "cell_type": "code",
   "execution_count": 6,
   "metadata": {
    "id": "qK7X04Uv1cdD"
   },
   "outputs": [],
   "source": [
    "import sys\n",
    "sys.path.append('Models')\n",
    "from S9_resnet import resnet18\n",
    "from S7 import model_summary"
   ]
  },
  {
   "cell_type": "code",
   "execution_count": 7,
   "metadata": {
    "colab": {
     "base_uri": "https://localhost:8080/",
     "height": 1000
    },
    "id": "kuUat6iZ1o8Z",
    "outputId": "9b325c53-33a6-4d18-dd86-cf9d606b7fbe"
   },
   "outputs": [
    {
     "name": "stdout",
     "output_type": "stream",
     "text": [
      "----------------------------------------------------------------\n",
      "        Layer (type)               Output Shape         Param #\n",
      "================================================================\n",
      "            Conv2d-1           [-1, 64, 64, 64]           1,728\n",
      "       BatchNorm2d-2           [-1, 64, 64, 64]             128\n",
      "              ReLU-3           [-1, 64, 64, 64]               0\n",
      "            Conv2d-4           [-1, 64, 64, 64]          36,864\n",
      "       BatchNorm2d-5           [-1, 64, 64, 64]             128\n",
      "              ReLU-6           [-1, 64, 64, 64]               0\n",
      "            Conv2d-7           [-1, 64, 64, 64]          36,864\n",
      "       BatchNorm2d-8           [-1, 64, 64, 64]             128\n",
      "              ReLU-9           [-1, 64, 64, 64]               0\n",
      "       BasicBlock-10           [-1, 64, 64, 64]               0\n",
      "           Conv2d-11           [-1, 64, 64, 64]          36,864\n",
      "      BatchNorm2d-12           [-1, 64, 64, 64]             128\n",
      "             ReLU-13           [-1, 64, 64, 64]               0\n",
      "           Conv2d-14           [-1, 64, 64, 64]          36,864\n",
      "      BatchNorm2d-15           [-1, 64, 64, 64]             128\n",
      "             ReLU-16           [-1, 64, 64, 64]               0\n",
      "       BasicBlock-17           [-1, 64, 64, 64]               0\n",
      "           Conv2d-18          [-1, 128, 32, 32]          73,728\n",
      "      BatchNorm2d-19          [-1, 128, 32, 32]             256\n",
      "             ReLU-20          [-1, 128, 32, 32]               0\n",
      "           Conv2d-21          [-1, 128, 32, 32]         147,456\n",
      "      BatchNorm2d-22          [-1, 128, 32, 32]             256\n",
      "           Conv2d-23          [-1, 128, 32, 32]           8,192\n",
      "      BatchNorm2d-24          [-1, 128, 32, 32]             256\n",
      "             ReLU-25          [-1, 128, 32, 32]               0\n",
      "       BasicBlock-26          [-1, 128, 32, 32]               0\n",
      "           Conv2d-27          [-1, 128, 32, 32]         147,456\n",
      "      BatchNorm2d-28          [-1, 128, 32, 32]             256\n",
      "             ReLU-29          [-1, 128, 32, 32]               0\n",
      "           Conv2d-30          [-1, 128, 32, 32]         147,456\n",
      "      BatchNorm2d-31          [-1, 128, 32, 32]             256\n",
      "             ReLU-32          [-1, 128, 32, 32]               0\n",
      "       BasicBlock-33          [-1, 128, 32, 32]               0\n",
      "           Conv2d-34          [-1, 256, 16, 16]         294,912\n",
      "      BatchNorm2d-35          [-1, 256, 16, 16]             512\n",
      "             ReLU-36          [-1, 256, 16, 16]               0\n",
      "           Conv2d-37          [-1, 256, 16, 16]         589,824\n",
      "      BatchNorm2d-38          [-1, 256, 16, 16]             512\n",
      "           Conv2d-39          [-1, 256, 16, 16]          32,768\n",
      "      BatchNorm2d-40          [-1, 256, 16, 16]             512\n",
      "             ReLU-41          [-1, 256, 16, 16]               0\n",
      "       BasicBlock-42          [-1, 256, 16, 16]               0\n",
      "           Conv2d-43          [-1, 256, 16, 16]         589,824\n",
      "      BatchNorm2d-44          [-1, 256, 16, 16]             512\n",
      "             ReLU-45          [-1, 256, 16, 16]               0\n",
      "           Conv2d-46          [-1, 256, 16, 16]         589,824\n",
      "      BatchNorm2d-47          [-1, 256, 16, 16]             512\n",
      "             ReLU-48          [-1, 256, 16, 16]               0\n",
      "       BasicBlock-49          [-1, 256, 16, 16]               0\n",
      "           Conv2d-50            [-1, 512, 8, 8]       1,179,648\n",
      "      BatchNorm2d-51            [-1, 512, 8, 8]           1,024\n",
      "             ReLU-52            [-1, 512, 8, 8]               0\n",
      "           Conv2d-53            [-1, 512, 8, 8]       2,359,296\n",
      "      BatchNorm2d-54            [-1, 512, 8, 8]           1,024\n",
      "           Conv2d-55            [-1, 512, 8, 8]         131,072\n",
      "      BatchNorm2d-56            [-1, 512, 8, 8]           1,024\n",
      "             ReLU-57            [-1, 512, 8, 8]               0\n",
      "       BasicBlock-58            [-1, 512, 8, 8]               0\n",
      "           Conv2d-59            [-1, 512, 8, 8]       2,359,296\n",
      "      BatchNorm2d-60            [-1, 512, 8, 8]           1,024\n",
      "             ReLU-61            [-1, 512, 8, 8]               0\n",
      "           Conv2d-62            [-1, 512, 8, 8]       2,359,296\n",
      "      BatchNorm2d-63            [-1, 512, 8, 8]           1,024\n",
      "             ReLU-64            [-1, 512, 8, 8]               0\n",
      "       BasicBlock-65            [-1, 512, 8, 8]               0\n",
      "AdaptiveAvgPool2d-66            [-1, 512, 1, 1]               0\n",
      "           Linear-67                  [-1, 200]         102,600\n",
      "================================================================\n",
      "Total params: 11,271,432\n",
      "Trainable params: 11,271,432\n",
      "Non-trainable params: 0\n",
      "----------------------------------------------------------------\n",
      "Input size (MB): 0.05\n",
      "Forward/backward pass size (MB): 62.01\n",
      "Params size (MB): 43.00\n",
      "Estimated Total Size (MB): 105.05\n",
      "----------------------------------------------------------------\n",
      "None\n"
     ]
    }
   ],
   "source": [
    "model_ = resnet18(num_classes=200, pretrained=False).to(config.device)\n",
    "print(model_summary(model_, (3,64,64)))"
   ]
  },
  {
   "cell_type": "code",
   "execution_count": 19,
   "metadata": {
    "colab": {
     "base_uri": "https://localhost:8080/",
     "height": 1000
    },
    "id": "jNcevPYv7Fdj",
    "outputId": "aeef798e-8df9-471a-d897-4a0382ad37eb"
   },
   "outputs": [
    {
     "name": "stderr",
     "output_type": "stream",
     "text": []
    },
    {
     "name": "stdout",
     "output_type": "stream",
     "text": [
      "Epoch: 1,LR: 0.010448840025278058.\n",
      "Train set: train Average loss: 3.9690, train_Accuracy: 8837/77000 (11.4766%)\n",
      "\n"
     ]
    },
    {
     "name": "stderr",
     "output_type": "stream",
     "text": [
      "\r",
      "  0%|          | 0/154 [00:00<?, ?it/s]"
     ]
    },
    {
     "name": "stdout",
     "output_type": "stream",
     "text": [
      "\n",
      "Test set: Average loss: 0.0084, Accuracy: 3899/33000 (11.8152%)\n",
      "\n"
     ]
    },
    {
     "name": "stderr",
     "output_type": "stream",
     "text": []
    },
    {
     "name": "stdout",
     "output_type": "stream",
     "text": [
      "Epoch: 2,LR: 0.012081837076495058.\n",
      "Train set: train Average loss: 3.7638, train_Accuracy: 12035/77000 (15.6299%)\n",
      "\n"
     ]
    },
    {
     "name": "stderr",
     "output_type": "stream",
     "text": [
      "\r",
      "  0%|          | 0/154 [00:00<?, ?it/s]"
     ]
    },
    {
     "name": "stdout",
     "output_type": "stream",
     "text": [
      "\n",
      "Test set: Average loss: 0.0083, Accuracy: 4026/33000 (12.2000%)\n",
      "\n"
     ]
    },
    {
     "name": "stderr",
     "output_type": "stream",
     "text": []
    },
    {
     "name": "stdout",
     "output_type": "stream",
     "text": [
      "Epoch: 3,LR: 0.014758755277427954.\n",
      "Train set: train Average loss: 3.5153, train_Accuracy: 15239/77000 (19.7909%)\n",
      "\n"
     ]
    },
    {
     "name": "stderr",
     "output_type": "stream",
     "text": [
      "\r",
      "  0%|          | 0/154 [00:00<?, ?it/s]"
     ]
    },
    {
     "name": "stdout",
     "output_type": "stream",
     "text": [
      "\n",
      "Test set: Average loss: 0.0073, Accuracy: 6375/33000 (19.3182%)\n",
      "\n"
     ]
    },
    {
     "name": "stderr",
     "output_type": "stream",
     "text": []
    },
    {
     "name": "stdout",
     "output_type": "stream",
     "text": [
      "Epoch: 4,LR: 0.018413637283382342.\n",
      "Train set: train Average loss: 3.3740, train_Accuracy: 17801/77000 (23.1182%)\n",
      "\n"
     ]
    },
    {
     "name": "stderr",
     "output_type": "stream",
     "text": [
      "\r",
      "  0%|          | 0/154 [00:00<?, ?it/s]"
     ]
    },
    {
     "name": "stdout",
     "output_type": "stream",
     "text": [
      "\n",
      "Test set: Average loss: 0.0073, Accuracy: 6300/33000 (19.0909%)\n",
      "\n"
     ]
    },
    {
     "name": "stderr",
     "output_type": "stream",
     "text": []
    },
    {
     "name": "stdout",
     "output_type": "stream",
     "text": [
      "Epoch: 5,LR: 0.022956429422863897.\n",
      "Train set: train Average loss: 3.2052, train_Accuracy: 20231/77000 (26.2740%)\n",
      "\n"
     ]
    },
    {
     "name": "stderr",
     "output_type": "stream",
     "text": [
      "\r",
      "  0%|          | 0/154 [00:00<?, ?it/s]"
     ]
    },
    {
     "name": "stdout",
     "output_type": "stream",
     "text": [
      "\n",
      "Test set: Average loss: 0.0066, Accuracy: 8277/33000 (25.0818%)\n",
      "\n"
     ]
    },
    {
     "name": "stderr",
     "output_type": "stream",
     "text": []
    },
    {
     "name": "stdout",
     "output_type": "stream",
     "text": [
      "Epoch: 6,LR: 0.028275200555461122.\n",
      "Train set: train Average loss: 2.9188, train_Accuracy: 22372/77000 (29.0545%)\n",
      "\n"
     ]
    },
    {
     "name": "stderr",
     "output_type": "stream",
     "text": [
      "\r",
      "  0%|          | 0/154 [00:00<?, ?it/s]"
     ]
    },
    {
     "name": "stdout",
     "output_type": "stream",
     "text": [
      "\n",
      "Test set: Average loss: 0.0065, Accuracy: 8880/33000 (26.9091%)\n",
      "\n"
     ]
    },
    {
     "name": "stderr",
     "output_type": "stream",
     "text": []
    },
    {
     "name": "stdout",
     "output_type": "stream",
     "text": [
      "Epoch: 7,LR: 0.03423889997487267.\n",
      "Train set: train Average loss: 2.8571, train_Accuracy: 24471/77000 (31.7805%)\n",
      "\n"
     ]
    },
    {
     "name": "stderr",
     "output_type": "stream",
     "text": [
      "\r",
      "  0%|          | 0/154 [00:00<?, ?it/s]"
     ]
    },
    {
     "name": "stdout",
     "output_type": "stream",
     "text": [
      "\n",
      "Test set: Average loss: 0.0067, Accuracy: 8484/33000 (25.7091%)\n",
      "\n"
     ]
    },
    {
     "name": "stderr",
     "output_type": "stream",
     "text": []
    },
    {
     "name": "stdout",
     "output_type": "stream",
     "text": [
      "Epoch: 8,LR: 0.04070058640432632.\n",
      "Train set: train Average loss: 2.5820, train_Accuracy: 26325/77000 (34.1883%)\n",
      "\n"
     ]
    },
    {
     "name": "stderr",
     "output_type": "stream",
     "text": [
      "\r",
      "  0%|          | 0/154 [00:00<?, ?it/s]"
     ]
    },
    {
     "name": "stdout",
     "output_type": "stream",
     "text": [
      "\n",
      "Test set: Average loss: 0.0064, Accuracy: 8940/33000 (27.0909%)\n",
      "\n"
     ]
    },
    {
     "name": "stderr",
     "output_type": "stream",
     "text": []
    },
    {
     "name": "stdout",
     "output_type": "stream",
     "text": [
      "Epoch: 9,LR: 0.04750104852425844.\n",
      "Train set: train Average loss: 2.6192, train_Accuracy: 28302/77000 (36.7558%)\n",
      "\n"
     ]
    },
    {
     "name": "stderr",
     "output_type": "stream",
     "text": [
      "\r",
      "  0%|          | 0/154 [00:00<?, ?it/s]"
     ]
    },
    {
     "name": "stdout",
     "output_type": "stream",
     "text": [
      "\n",
      "Test set: Average loss: 0.0063, Accuracy: 9797/33000 (29.6879%)\n",
      "\n"
     ]
    },
    {
     "name": "stderr",
     "output_type": "stream",
     "text": []
    },
    {
     "name": "stdout",
     "output_type": "stream",
     "text": [
      "Epoch: 10,LR: 0.054472727825048126.\n",
      "Train set: train Average loss: 2.5309, train_Accuracy: 29951/77000 (38.8974%)\n",
      "\n"
     ]
    },
    {
     "name": "stderr",
     "output_type": "stream",
     "text": [
      "\r",
      "  0%|          | 0/154 [00:00<?, ?it/s]"
     ]
    },
    {
     "name": "stdout",
     "output_type": "stream",
     "text": [
      "\n",
      "Test set: Average loss: 0.0059, Accuracy: 10542/33000 (31.9455%)\n",
      "\n"
     ]
    },
    {
     "name": "stderr",
     "output_type": "stream",
     "text": []
    },
    {
     "name": "stdout",
     "output_type": "stream",
     "text": [
      "Epoch: 11,LR: 0.0614438471285281.\n",
      "Train set: train Average loss: 2.2783, train_Accuracy: 31590/77000 (41.0260%)\n",
      "\n"
     ]
    },
    {
     "name": "stderr",
     "output_type": "stream",
     "text": [
      "\r",
      "  0%|          | 0/154 [00:00<?, ?it/s]"
     ]
    },
    {
     "name": "stdout",
     "output_type": "stream",
     "text": [
      "\n",
      "Test set: Average loss: 0.0055, Accuracy: 11647/33000 (35.2939%)\n",
      "\n"
     ]
    },
    {
     "name": "stderr",
     "output_type": "stream",
     "text": []
    },
    {
     "name": "stdout",
     "output_type": "stream",
     "text": [
      "Epoch: 12,LR: 0.06824264305446318.\n",
      "Train set: train Average loss: 2.2791, train_Accuracy: 33237/77000 (43.1649%)\n",
      "\n"
     ]
    },
    {
     "name": "stderr",
     "output_type": "stream",
     "text": [
      "\r",
      "  0%|          | 0/154 [00:00<?, ?it/s]"
     ]
    },
    {
     "name": "stdout",
     "output_type": "stream",
     "text": [
      "\n",
      "Test set: Average loss: 0.0062, Accuracy: 9949/33000 (30.1485%)\n",
      "\n"
     ]
    },
    {
     "name": "stderr",
     "output_type": "stream",
     "text": []
    },
    {
     "name": "stdout",
     "output_type": "stream",
     "text": [
      "Epoch: 13,LR: 0.07470159814705761.\n",
      "Train set: train Average loss: 2.1419, train_Accuracy: 34785/77000 (45.1753%)\n",
      "\n"
     ]
    },
    {
     "name": "stderr",
     "output_type": "stream",
     "text": [
      "\r",
      "  0%|          | 0/154 [00:00<?, ?it/s]"
     ]
    },
    {
     "name": "stdout",
     "output_type": "stream",
     "text": [
      "\n",
      "Test set: Average loss: 0.0068, Accuracy: 8797/33000 (26.6576%)\n",
      "\n"
     ]
    },
    {
     "name": "stderr",
     "output_type": "stream",
     "text": []
    },
    {
     "name": "stdout",
     "output_type": "stream",
     "text": [
      "Epoch: 14,LR: 0.08066156838492919.\n",
      "Train set: train Average loss: 2.1517, train_Accuracy: 36237/77000 (47.0610%)\n",
      "\n"
     ]
    },
    {
     "name": "stderr",
     "output_type": "stream",
     "text": [
      "\r",
      "  0%|          | 0/154 [00:00<?, ?it/s]"
     ]
    },
    {
     "name": "stdout",
     "output_type": "stream",
     "text": [
      "\n",
      "Test set: Average loss: 0.0059, Accuracy: 11132/33000 (33.7333%)\n",
      "\n"
     ]
    },
    {
     "name": "stderr",
     "output_type": "stream",
     "text": []
    },
    {
     "name": "stdout",
     "output_type": "stream",
     "text": [
      "Epoch: 15,LR: 0.08597570437566442.\n",
      "Train set: train Average loss: 2.2173, train_Accuracy: 37541/77000 (48.7545%)\n",
      "\n"
     ]
    },
    {
     "name": "stderr",
     "output_type": "stream",
     "text": [
      "\r",
      "  0%|          | 0/154 [00:00<?, ?it/s]"
     ]
    },
    {
     "name": "stdout",
     "output_type": "stream",
     "text": [
      "\n",
      "Test set: Average loss: 0.0053, Accuracy: 12783/33000 (38.7364%)\n",
      "\n"
     ]
    },
    {
     "name": "stderr",
     "output_type": "stream",
     "text": []
    },
    {
     "name": "stdout",
     "output_type": "stream",
     "text": [
      "Epoch: 16,LR: 0.09051306961953327.\n",
      "Train set: train Average loss: 1.9597, train_Accuracy: 38856/77000 (50.4623%)\n",
      "\n"
     ]
    },
    {
     "name": "stderr",
     "output_type": "stream",
     "text": [
      "\r",
      "  0%|          | 0/154 [00:00<?, ?it/s]"
     ]
    },
    {
     "name": "stdout",
     "output_type": "stream",
     "text": [
      "\n",
      "Test set: Average loss: 0.0054, Accuracy: 12439/33000 (37.6939%)\n",
      "\n"
     ]
    },
    {
     "name": "stderr",
     "output_type": "stream",
     "text": []
    },
    {
     "name": "stdout",
     "output_type": "stream",
     "text": [
      "Epoch: 17,LR: 0.09416186669094023.\n",
      "Train set: train Average loss: 1.9694, train_Accuracy: 40118/77000 (52.1013%)\n",
      "\n"
     ]
    },
    {
     "name": "stderr",
     "output_type": "stream",
     "text": [
      "\r",
      "  0%|          | 0/154 [00:00<?, ?it/s]"
     ]
    },
    {
     "name": "stdout",
     "output_type": "stream",
     "text": [
      "\n",
      "Test set: Average loss: 0.0052, Accuracy: 13453/33000 (40.7667%)\n",
      "\n"
     ]
    },
    {
     "name": "stderr",
     "output_type": "stream",
     "text": []
    },
    {
     "name": "stdout",
     "output_type": "stream",
     "text": [
      "Epoch: 18,LR: 0.09683219184681434.\n",
      "Train set: train Average loss: 1.9607, train_Accuracy: 41240/77000 (53.5584%)\n",
      "\n"
     ]
    },
    {
     "name": "stderr",
     "output_type": "stream",
     "text": [
      "\r",
      "  0%|          | 0/154 [00:00<?, ?it/s]"
     ]
    },
    {
     "name": "stdout",
     "output_type": "stream",
     "text": [
      "\n",
      "Test set: Average loss: 0.0062, Accuracy: 10866/33000 (32.9273%)\n",
      "\n"
     ]
    },
    {
     "name": "stderr",
     "output_type": "stream",
     "text": []
    },
    {
     "name": "stdout",
     "output_type": "stream",
     "text": [
      "Epoch: 19,LR: 0.09845825019036318.\n",
      "Train set: train Average loss: 1.7858, train_Accuracy: 42703/77000 (55.4584%)\n",
      "\n"
     ]
    },
    {
     "name": "stderr",
     "output_type": "stream",
     "text": [
      "\r",
      "  0%|          | 0/154 [00:00<?, ?it/s]"
     ]
    },
    {
     "name": "stdout",
     "output_type": "stream",
     "text": [
      "\n",
      "Test set: Average loss: 0.0050, Accuracy: 13441/33000 (40.7303%)\n",
      "\n"
     ]
    },
    {
     "name": "stderr",
     "output_type": "stream",
     "text": []
    },
    {
     "name": "stdout",
     "output_type": "stream",
     "text": [
      "Epoch: 20,LR: 0.09899998970008857.\n",
      "Train set: train Average loss: 1.6307, train_Accuracy: 43488/77000 (56.4779%)\n",
      "\n"
     ]
    },
    {
     "name": "stderr",
     "output_type": "stream",
     "text": [
      "\r",
      "  0%|          | 0/154 [00:00<?, ?it/s]"
     ]
    },
    {
     "name": "stdout",
     "output_type": "stream",
     "text": [
      "\n",
      "Test set: Average loss: 0.0051, Accuracy: 13567/33000 (41.1121%)\n",
      "\n"
     ]
    },
    {
     "name": "stderr",
     "output_type": "stream",
     "text": []
    },
    {
     "name": "stdout",
     "output_type": "stream",
     "text": [
      "Epoch: 21,LR: 0.09875277361755179.\n",
      "Train set: train Average loss: 1.7048, train_Accuracy: 44845/77000 (58.2403%)\n",
      "\n"
     ]
    },
    {
     "name": "stderr",
     "output_type": "stream",
     "text": [
      "\r",
      "  0%|          | 0/154 [00:00<?, ?it/s]"
     ]
    },
    {
     "name": "stdout",
     "output_type": "stream",
     "text": [
      "\n",
      "Test set: Average loss: 0.0048, Accuracy: 14414/33000 (43.6788%)\n",
      "\n"
     ]
    },
    {
     "name": "stderr",
     "output_type": "stream",
     "text": []
    },
    {
     "name": "stdout",
     "output_type": "stream",
     "text": [
      "Epoch: 22,LR: 0.0980201670763097.\n",
      "Train set: train Average loss: 1.5047, train_Accuracy: 45830/77000 (59.5195%)\n",
      "\n"
     ]
    },
    {
     "name": "stderr",
     "output_type": "stream",
     "text": [
      "\r",
      "  0%|          | 0/154 [00:00<?, ?it/s]"
     ]
    },
    {
     "name": "stdout",
     "output_type": "stream",
     "text": [
      "\n",
      "Test set: Average loss: 0.0048, Accuracy: 14507/33000 (43.9606%)\n",
      "\n"
     ]
    },
    {
     "name": "stderr",
     "output_type": "stream",
     "text": []
    },
    {
     "name": "stdout",
     "output_type": "stream",
     "text": [
      "Epoch: 23,LR: 0.09681019666693594.\n",
      "Train set: train Average loss: 1.4643, train_Accuracy: 46990/77000 (61.0260%)\n",
      "\n"
     ]
    },
    {
     "name": "stderr",
     "output_type": "stream",
     "text": [
      "\r",
      "  0%|          | 0/154 [00:00<?, ?it/s]"
     ]
    },
    {
     "name": "stdout",
     "output_type": "stream",
     "text": [
      "\n",
      "Test set: Average loss: 0.0047, Accuracy: 14794/33000 (44.8303%)\n",
      "\n"
     ]
    },
    {
     "name": "stderr",
     "output_type": "stream",
     "text": []
    },
    {
     "name": "stdout",
     "output_type": "stream",
     "text": [
      "Epoch: 24,LR: 0.09513611907843819.\n",
      "Train set: train Average loss: 1.6367, train_Accuracy: 48044/77000 (62.3948%)\n",
      "\n"
     ]
    },
    {
     "name": "stderr",
     "output_type": "stream",
     "text": [
      "\r",
      "  0%|          | 0/154 [00:00<?, ?it/s]"
     ]
    },
    {
     "name": "stdout",
     "output_type": "stream",
     "text": [
      "\n",
      "Test set: Average loss: 0.0047, Accuracy: 14724/33000 (44.6182%)\n",
      "\n"
     ]
    },
    {
     "name": "stderr",
     "output_type": "stream",
     "text": []
    },
    {
     "name": "stdout",
     "output_type": "stream",
     "text": [
      "Epoch: 25,LR: 0.0930162758551993.\n",
      "Train set: train Average loss: 1.5423, train_Accuracy: 49036/77000 (63.6831%)\n",
      "\n"
     ]
    },
    {
     "name": "stderr",
     "output_type": "stream",
     "text": [
      "\r",
      "  0%|          | 0/154 [00:00<?, ?it/s]"
     ]
    },
    {
     "name": "stdout",
     "output_type": "stream",
     "text": [
      "\n",
      "Test set: Average loss: 0.0053, Accuracy: 13530/33000 (41.0000%)\n",
      "\n"
     ]
    },
    {
     "name": "stderr",
     "output_type": "stream",
     "text": []
    },
    {
     "name": "stdout",
     "output_type": "stream",
     "text": [
      "Epoch: 26,LR: 0.09047389244317877.\n",
      "Train set: train Average loss: 1.4394, train_Accuracy: 50019/77000 (64.9597%)\n",
      "\n"
     ]
    },
    {
     "name": "stderr",
     "output_type": "stream",
     "text": [
      "\r",
      "  0%|          | 0/154 [00:00<?, ?it/s]"
     ]
    },
    {
     "name": "stdout",
     "output_type": "stream",
     "text": [
      "\n",
      "Test set: Average loss: 0.0049, Accuracy: 14553/33000 (44.1000%)\n",
      "\n"
     ]
    },
    {
     "name": "stderr",
     "output_type": "stream",
     "text": []
    },
    {
     "name": "stdout",
     "output_type": "stream",
     "text": [
      "Epoch: 27,LR: 0.08753682372706666.\n",
      "Train set: train Average loss: 1.3951, train_Accuracy: 51277/77000 (66.5935%)\n",
      "\n"
     ]
    },
    {
     "name": "stderr",
     "output_type": "stream",
     "text": [
      "\r",
      "  0%|          | 0/154 [00:00<?, ?it/s]"
     ]
    },
    {
     "name": "stdout",
     "output_type": "stream",
     "text": [
      "\n",
      "Test set: Average loss: 0.0052, Accuracy: 13987/33000 (42.3848%)\n",
      "\n"
     ]
    },
    {
     "name": "stderr",
     "output_type": "stream",
     "text": []
    },
    {
     "name": "stdout",
     "output_type": "stream",
     "text": [
      "Epoch: 28,LR: 0.08423724884633778.\n",
      "Train set: train Average loss: 1.2901, train_Accuracy: 52004/77000 (67.5377%)\n",
      "\n"
     ]
    },
    {
     "name": "stderr",
     "output_type": "stream",
     "text": [
      "\r",
      "  0%|          | 0/154 [00:00<?, ?it/s]"
     ]
    },
    {
     "name": "stdout",
     "output_type": "stream",
     "text": [
      "\n",
      "Test set: Average loss: 0.0048, Accuracy: 15321/33000 (46.4273%)\n",
      "\n"
     ]
    },
    {
     "name": "stderr",
     "output_type": "stream",
     "text": []
    },
    {
     "name": "stdout",
     "output_type": "stream",
     "text": [
      "Epoch: 29,LR: 0.08061131863386588.\n",
      "Train set: train Average loss: 1.3187, train_Accuracy: 53071/77000 (68.9234%)\n",
      "\n"
     ]
    },
    {
     "name": "stderr",
     "output_type": "stream",
     "text": [
      "\r",
      "  0%|          | 0/154 [00:00<?, ?it/s]"
     ]
    },
    {
     "name": "stdout",
     "output_type": "stream",
     "text": [
      "\n",
      "Test set: Average loss: 0.0048, Accuracy: 15144/33000 (45.8909%)\n",
      "\n"
     ]
    },
    {
     "name": "stderr",
     "output_type": "stream",
     "text": []
    },
    {
     "name": "stdout",
     "output_type": "stream",
     "text": [
      "Epoch: 30,LR: 0.07669875953983347.\n",
      "Train set: train Average loss: 1.1553, train_Accuracy: 54215/77000 (70.4091%)\n",
      "\n"
     ]
    },
    {
     "name": "stderr",
     "output_type": "stream",
     "text": [
      "\r",
      "  0%|          | 0/154 [00:00<?, ?it/s]"
     ]
    },
    {
     "name": "stdout",
     "output_type": "stream",
     "text": [
      "\n",
      "Test set: Average loss: 0.0048, Accuracy: 15397/33000 (46.6576%)\n",
      "\n"
     ]
    },
    {
     "name": "stderr",
     "output_type": "stream",
     "text": []
    },
    {
     "name": "stdout",
     "output_type": "stream",
     "text": [
      "Epoch: 31,LR: 0.0725424383804304.\n",
      "Train set: train Average loss: 1.1916, train_Accuracy: 54731/77000 (71.0792%)\n",
      "\n"
     ]
    },
    {
     "name": "stderr",
     "output_type": "stream",
     "text": [
      "\r",
      "  0%|          | 0/154 [00:00<?, ?it/s]"
     ]
    },
    {
     "name": "stdout",
     "output_type": "stream",
     "text": [
      "\n",
      "Test set: Average loss: 0.0051, Accuracy: 14875/33000 (45.0758%)\n",
      "\n"
     ]
    },
    {
     "name": "stderr",
     "output_type": "stream",
     "text": []
    },
    {
     "name": "stdout",
     "output_type": "stream",
     "text": [
      "Epoch: 32,LR: 0.06818789268004519.\n",
      "Train set: train Average loss: 1.1847, train_Accuracy: 56079/77000 (72.8299%)\n",
      "\n"
     ]
    },
    {
     "name": "stderr",
     "output_type": "stream",
     "text": [
      "\r",
      "  0%|          | 0/154 [00:00<?, ?it/s]"
     ]
    },
    {
     "name": "stdout",
     "output_type": "stream",
     "text": [
      "\n",
      "Test set: Average loss: 0.0046, Accuracy: 15904/33000 (48.1939%)\n",
      "\n"
     ]
    },
    {
     "name": "stderr",
     "output_type": "stream",
     "text": []
    },
    {
     "name": "stdout",
     "output_type": "stream",
     "text": [
      "Epoch: 33,LR: 0.06368283175261852.\n",
      "Train set: train Average loss: 1.0553, train_Accuracy: 57181/77000 (74.2610%)\n",
      "\n"
     ]
    },
    {
     "name": "stderr",
     "output_type": "stream",
     "text": [
      "\r",
      "  0%|          | 0/154 [00:00<?, ?it/s]"
     ]
    },
    {
     "name": "stdout",
     "output_type": "stream",
     "text": [
      "\n",
      "Test set: Average loss: 0.0046, Accuracy: 15605/33000 (47.2879%)\n",
      "\n"
     ]
    },
    {
     "name": "stderr",
     "output_type": "stream",
     "text": []
    },
    {
     "name": "stdout",
     "output_type": "stream",
     "text": [
      "Epoch: 34,LR: 0.05907661398841592.\n",
      "Train set: train Average loss: 1.0435, train_Accuracy: 58637/77000 (76.1519%)\n",
      "\n"
     ]
    },
    {
     "name": "stderr",
     "output_type": "stream",
     "text": [
      "\r",
      "  0%|          | 0/154 [00:00<?, ?it/s]"
     ]
    },
    {
     "name": "stdout",
     "output_type": "stream",
     "text": [
      "\n",
      "Test set: Average loss: 0.0048, Accuracy: 15322/33000 (46.4303%)\n",
      "\n"
     ]
    },
    {
     "name": "stderr",
     "output_type": "stream",
     "text": []
    },
    {
     "name": "stdout",
     "output_type": "stream",
     "text": [
      "Epoch: 35,LR: 0.05441970607317503.\n",
      "Train set: train Average loss: 1.0158, train_Accuracy: 59646/77000 (77.4623%)\n",
      "\n"
     ]
    },
    {
     "name": "stderr",
     "output_type": "stream",
     "text": [
      "\r",
      "  0%|          | 0/154 [00:00<?, ?it/s]"
     ]
    },
    {
     "name": "stdout",
     "output_type": "stream",
     "text": [
      "\n",
      "Test set: Average loss: 0.0046, Accuracy: 16133/33000 (48.8879%)\n",
      "\n"
     ]
    },
    {
     "name": "stderr",
     "output_type": "stream",
     "text": []
    },
    {
     "name": "stdout",
     "output_type": "stream",
     "text": [
      "Epoch: 36,LR: 0.04976313006453584.\n",
      "Train set: train Average loss: 0.7046, train_Accuracy: 60984/77000 (79.2000%)\n",
      "\n"
     ]
    },
    {
     "name": "stderr",
     "output_type": "stream",
     "text": [
      "\r",
      "  0%|          | 0/154 [00:00<?, ?it/s]"
     ]
    },
    {
     "name": "stdout",
     "output_type": "stream",
     "text": [
      "\n",
      "Test set: Average loss: 0.0046, Accuracy: 16152/33000 (48.9455%)\n",
      "\n"
     ]
    },
    {
     "name": "stderr",
     "output_type": "stream",
     "text": []
    },
    {
     "name": "stdout",
     "output_type": "stream",
     "text": [
      "Epoch: 37,LR: 0.045157904383700175.\n",
      "Train set: train Average loss: 0.8445, train_Accuracy: 62238/77000 (80.8286%)\n",
      "\n"
     ]
    },
    {
     "name": "stderr",
     "output_type": "stream",
     "text": [
      "\r",
      "  0%|          | 0/154 [00:00<?, ?it/s]"
     ]
    },
    {
     "name": "stdout",
     "output_type": "stream",
     "text": [
      "\n",
      "Test set: Average loss: 0.0047, Accuracy: 16113/33000 (48.8273%)\n",
      "\n"
     ]
    },
    {
     "name": "stderr",
     "output_type": "stream",
     "text": []
    },
    {
     "name": "stdout",
     "output_type": "stream",
     "text": [
      "Epoch: 38,LR: 0.04065448484693271.\n",
      "Train set: train Average loss: 0.8148, train_Accuracy: 63332/77000 (82.2494%)\n",
      "\n"
     ]
    },
    {
     "name": "stderr",
     "output_type": "stream",
     "text": [
      "\r",
      "  0%|          | 0/154 [00:00<?, ?it/s]"
     ]
    },
    {
     "name": "stdout",
     "output_type": "stream",
     "text": [
      "\n",
      "Test set: Average loss: 0.0045, Accuracy: 16446/33000 (49.8364%)\n",
      "\n"
     ]
    },
    {
     "name": "stderr",
     "output_type": "stream",
     "text": []
    },
    {
     "name": "stdout",
     "output_type": "stream",
     "text": [
      "Epoch: 39,LR: 0.03630221186107939.\n",
      "Train set: train Average loss: 0.6909, train_Accuracy: 65088/77000 (84.5299%)\n",
      "\n"
     ]
    },
    {
     "name": "stderr",
     "output_type": "stream",
     "text": [
      "\r",
      "  0%|          | 0/154 [00:00<?, ?it/s]"
     ]
    },
    {
     "name": "stdout",
     "output_type": "stream",
     "text": [
      "\n",
      "Test set: Average loss: 0.0045, Accuracy: 16643/33000 (50.4333%)\n",
      "\n"
     ]
    },
    {
     "name": "stderr",
     "output_type": "stream",
     "text": []
    },
    {
     "name": "stdout",
     "output_type": "stream",
     "text": [
      "Epoch: 40,LR: 0.032148769839744906.\n",
      "Train set: train Average loss: 0.5745, train_Accuracy: 66810/77000 (86.7662%)\n",
      "\n"
     ]
    },
    {
     "name": "stderr",
     "output_type": "stream",
     "text": [
      "\r",
      "  0%|          | 0/154 [00:00<?, ?it/s]"
     ]
    },
    {
     "name": "stdout",
     "output_type": "stream",
     "text": [
      "\n",
      "Test set: Average loss: 0.0045, Accuracy: 16843/33000 (51.0394%)\n",
      "\n"
     ]
    },
    {
     "name": "stderr",
     "output_type": "stream",
     "text": []
    },
    {
     "name": "stdout",
     "output_type": "stream",
     "text": [
      "Epoch: 41,LR: 0.028239664762878605.\n",
      "Train set: train Average loss: 0.4887, train_Accuracy: 68326/77000 (88.7351%)\n",
      "\n"
     ]
    },
    {
     "name": "stderr",
     "output_type": "stream",
     "text": [
      "\r",
      "  0%|          | 0/154 [00:00<?, ?it/s]"
     ]
    },
    {
     "name": "stdout",
     "output_type": "stream",
     "text": [
      "\n",
      "Test set: Average loss: 0.0045, Accuracy: 17130/33000 (51.9091%)\n",
      "\n"
     ]
    },
    {
     "name": "stderr",
     "output_type": "stream",
     "text": []
    },
    {
     "name": "stdout",
     "output_type": "stream",
     "text": [
      "Epoch: 42,LR: 0.024617725603735485.\n",
      "Train set: train Average loss: 0.4151, train_Accuracy: 69659/77000 (90.4662%)\n",
      "\n"
     ]
    },
    {
     "name": "stderr",
     "output_type": "stream",
     "text": [
      "\r",
      "  0%|          | 0/154 [00:00<?, ?it/s]"
     ]
    },
    {
     "name": "stdout",
     "output_type": "stream",
     "text": [
      "\n",
      "Test set: Average loss: 0.0042, Accuracy: 17636/33000 (53.4424%)\n",
      "\n"
     ]
    },
    {
     "name": "stderr",
     "output_type": "stream",
     "text": []
    },
    {
     "name": "stdout",
     "output_type": "stream",
     "text": [
      "Epoch: 43,LR: 0.021322635085682586.\n",
      "Train set: train Average loss: 0.3302, train_Accuracy: 71574/77000 (92.9532%)\n",
      "\n"
     ]
    },
    {
     "name": "stderr",
     "output_type": "stream",
     "text": [
      "\r",
      "  0%|          | 0/154 [00:00<?, ?it/s]"
     ]
    },
    {
     "name": "stdout",
     "output_type": "stream",
     "text": [
      "\n",
      "Test set: Average loss: 0.0043, Accuracy: 17687/33000 (53.5970%)\n",
      "\n"
     ]
    },
    {
     "name": "stderr",
     "output_type": "stream",
     "text": []
    },
    {
     "name": "stdout",
     "output_type": "stream",
     "text": [
      "Epoch: 44,LR: 0.018390494909977732.\n",
      "Train set: train Average loss: 0.2859, train_Accuracy: 72991/77000 (94.7935%)\n",
      "\n"
     ]
    },
    {
     "name": "stderr",
     "output_type": "stream",
     "text": [
      "\r",
      "  0%|          | 0/154 [00:00<?, ?it/s]"
     ]
    },
    {
     "name": "stdout",
     "output_type": "stream",
     "text": [
      "\n",
      "Test set: Average loss: 0.0041, Accuracy: 18143/33000 (54.9788%)\n",
      "\n"
     ]
    },
    {
     "name": "stderr",
     "output_type": "stream",
     "text": []
    },
    {
     "name": "stdout",
     "output_type": "stream",
     "text": [
      "Epoch: 45,LR: 0.015853430217975726.\n",
      "Train set: train Average loss: 0.1977, train_Accuracy: 74319/77000 (96.5182%)\n",
      "\n"
     ]
    },
    {
     "name": "stderr",
     "output_type": "stream",
     "text": [
      "\r",
      "  0%|          | 0/154 [00:00<?, ?it/s]"
     ]
    },
    {
     "name": "stdout",
     "output_type": "stream",
     "text": [
      "\n",
      "Test set: Average loss: 0.0041, Accuracy: 18354/33000 (55.6182%)\n",
      "\n"
     ]
    },
    {
     "name": "stderr",
     "output_type": "stream",
     "text": []
    },
    {
     "name": "stdout",
     "output_type": "stream",
     "text": [
      "Epoch: 46,LR: 0.013739237621357064.\n",
      "Train set: train Average loss: 0.1644, train_Accuracy: 75236/77000 (97.7091%)\n",
      "\n"
     ]
    },
    {
     "name": "stderr",
     "output_type": "stream",
     "text": [
      "\r",
      "  0%|          | 0/154 [00:00<?, ?it/s]"
     ]
    },
    {
     "name": "stdout",
     "output_type": "stream",
     "text": [
      "\n",
      "Test set: Average loss: 0.0039, Accuracy: 18758/33000 (56.8424%)\n",
      "\n"
     ]
    },
    {
     "name": "stderr",
     "output_type": "stream",
     "text": []
    },
    {
     "name": "stdout",
     "output_type": "stream",
     "text": [
      "Epoch: 47,LR: 0.012071080656633527.\n",
      "Train set: train Average loss: 0.1108, train_Accuracy: 75865/77000 (98.5260%)\n",
      "\n"
     ]
    },
    {
     "name": "stderr",
     "output_type": "stream",
     "text": [
      "\r",
      "  0%|          | 0/154 [00:00<?, ?it/s]"
     ]
    },
    {
     "name": "stdout",
     "output_type": "stream",
     "text": [
      "\n",
      "Test set: Average loss: 0.0039, Accuracy: 18887/33000 (57.2333%)\n",
      "\n"
     ]
    },
    {
     "name": "stderr",
     "output_type": "stream",
     "text": []
    },
    {
     "name": "stdout",
     "output_type": "stream",
     "text": [
      "Epoch: 48,LR: 0.010867236000594922.\n",
      "Train set: train Average loss: 0.0790, train_Accuracy: 76207/77000 (98.9701%)\n",
      "\n"
     ]
    },
    {
     "name": "stderr",
     "output_type": "stream",
     "text": [
      "\r",
      "  0%|          | 0/154 [00:00<?, ?it/s]"
     ]
    },
    {
     "name": "stdout",
     "output_type": "stream",
     "text": [
      "\n",
      "Test set: Average loss: 0.0039, Accuracy: 18980/33000 (57.5152%)\n",
      "\n"
     ]
    },
    {
     "name": "stderr",
     "output_type": "stream",
     "text": []
    },
    {
     "name": "stdout",
     "output_type": "stream",
     "text": [
      "Epoch: 49,LR: 0.010140893227213508.\n",
      "Train set: train Average loss: 0.0914, train_Accuracy: 76436/77000 (99.2675%)\n",
      "\n"
     ]
    },
    {
     "name": "stderr",
     "output_type": "stream",
     "text": [
      "\r",
      "  0%|          | 0/154 [00:00<?, ?it/s]"
     ]
    },
    {
     "name": "stdout",
     "output_type": "stream",
     "text": [
      "\n",
      "Test set: Average loss: 0.0038, Accuracy: 19176/33000 (58.1091%)\n",
      "\n"
     ]
    },
    {
     "name": "stderr",
     "output_type": "stream",
     "text": []
    },
    {
     "name": "stdout",
     "output_type": "stream",
     "text": [
      "Epoch: 50,LR: 0.009900010299911432.\n",
      "Train set: train Average loss: 0.0751, train_Accuracy: 76545/77000 (99.4091%)\n",
      "\n",
      "\n",
      "Test set: Average loss: 0.0038, Accuracy: 19134/33000 (57.9818%)\n",
      "\n"
     ]
    }
   ],
   "source": [
    "from torch.optim.lr_scheduler import StepLR, OneCycleLR\n",
    "from Engine_train_test import train_cyclic, test\n",
    "import torch.optim as optim\n",
    "\n",
    "optimizer = optim.SGD(model_.parameters(), lr=9.9E-02, momentum=0.9, weight_decay=5e-4)\n",
    "scheduler = OneCycleLR(optimizer,max_lr=9.9E-02,epochs = 50,steps_per_epoch = len(train_loader_tinyimgnet_s12),\n",
    "                       pct_start = 0.40,div_factor = 10,final_div_factor = 1)\n",
    "valid_acc = []\n",
    "valid_loss = []\n",
    "train_acc = []\n",
    "train_loss = []\n",
    "for epoch in range(1, 51):\n",
    "    train_a, train_l = train_cyclic(model_, config.device, train_loader_tinyimgnet_s12, optimizer, epoch,\n",
    "                             is_cyclicLR = True,scheduler = scheduler,l1_regularization=[0, 1])\n",
    "    train_acc.append(train_a)\n",
    "    train_loss.append(train_l)\n",
    "    valid_a, valid_l = test(model_, config.device, test_loader_tinyimgnet_s12) \n",
    "    # Appending to loss and accuracy lists\n",
    "    valid_acc.append(valid_a)\n",
    "    train_loss.append(valid_l)"
   ]
  }
 ],
 "metadata": {
  "accelerator": "GPU",
  "colab": {
   "collapsed_sections": [],
   "name": "s12_jedi_eva5_final.ipynb",
   "provenance": []
  },
  "kernelspec": {
   "display_name": "Python 3",
   "language": "python",
   "name": "python3"
  },
  "language_info": {
   "codemirror_mode": {
    "name": "ipython",
    "version": 3
   },
   "file_extension": ".py",
   "mimetype": "text/x-python",
   "name": "python",
   "nbconvert_exporter": "python",
   "pygments_lexer": "ipython3",
   "version": "3.7.9"
  },
  "toc": {
   "base_numbering": 1,
   "nav_menu": {},
   "number_sections": true,
   "sideBar": true,
   "skip_h1_title": false,
   "title_cell": "Table of Contents",
   "title_sidebar": "Contents",
   "toc_cell": false,
   "toc_position": {},
   "toc_section_display": true,
   "toc_window_display": false
  }
 },
 "nbformat": 4,
 "nbformat_minor": 1
}
